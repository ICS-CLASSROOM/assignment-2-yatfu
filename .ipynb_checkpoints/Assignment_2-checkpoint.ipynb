{
 "cells": [
  {
   "cell_type": "code",
   "execution_count": null,
   "id": "1443cdff",
   "metadata": {},
   "outputs": [],
   "source": [
    "\n"
   ]
  },
  {
   "cell_type": "markdown",
   "id": "9aa8d15e",
   "metadata": {},
   "source": [
    "# Assignment 2: Analyzing large datasets with Spark.\n",
    "\n",
    "\n",
    "For this assignment, you will need to make sure you're running from a PySpark docker environment I introduced in class. You can start the docker pySpark docker environment using the following command:\n",
    "\n",
    "```\n",
    "docker run --rm -p 4040:4040 -p 8888:8888 -v $(pwd):/home/jovyan/work jupyter/all-spark-notebook\n",
    "```\n",
    "\n",
    "Make sure you run the command from the directory containing this jupyter notebook and your data folder.\n",
    "\n",
    "\n",
    "</b>\n",
    "# WARNING: For some reason, ipynbb document didn't always sync properly when I was pushing to github. As such, please push often and make sure your incremental changes appear on GitHub.\n",
    "</b>"
   ]
  },
  {
   "cell_type": "markdown",
   "id": "66b0d3e6",
   "metadata": {},
   "source": [
    "### Part 1\n",
    "\n",
    "The first part will use Spark to analyze the following books, which I have downloaded for you to use from Project Gutenberg. The files are saved to the data folder.\n",
    "\n",
    "| File name | Book Title|\n",
    "|:---------:|:----------|\n",
    "|43.txt | The Strange Case of Dr. Jekyll and Mr. Hyde by Robert Louis Stevenson|\n",
    "|84.txt | Frankenstein; Or, The Modern Prometheus by Mary Wollstonecraft Shelley |\n",
    "|398.txt  | The First Book of Adam and Eve by Rutherford Hayes Platt|\n",
    "|3296.txt | The Confessions of St. Augustine by Bishop of Hippo Saint Augustine|\n",
    "\n",
    "The objective is to explore whether we can detect similarity between books within the same topic using word-based similarity. \n",
    "\n",
    "The task of identifying similar texts in Natural Language Processing is crucial. A naive method for determining whether two documents are similar is to treat them as collections of words (bag of words) and use the number of words they share as a proxy for their similarity. It makes sense that two books with religion as the topic (e.g.  `398.txt` and `3296.txt`) would have more words in common than a book that discusses religion and a book that discusses science fiction (e.g. books `84.txt` and `398.txt`). \n",
    "\n",
    "As mentioned above, we will be using Spark to analyze the data. Although Spark is not needed for such a small example, the platform would be ideal for analyzing very large collections of documents, like those often analyzed by large corporations\n",
    "\n",
    "This part of the assignment will rely exclusively on RDDs."
   ]
  },
  {
   "cell_type": "markdown",
   "id": "87a15530",
   "metadata": {},
   "source": [
    "### Q1. \n",
    "Start by importing Spark and making sure your environment is set up properly for the assignment.\n",
    "\n",
    "Import the spark context necessary to load a document as an RDD; ignore any error messages"
   ]
  },
  {
   "cell_type": "code",
   "execution_count": 218,
   "id": "e80df4d4",
   "metadata": {},
   "outputs": [],
   "source": [
    "### Write your code here\n",
    "\n",
    "import re\n",
    "from pyspark import SparkContext"
   ]
  },
  {
   "cell_type": "code",
   "execution_count": 219,
   "id": "6fcd8a22",
   "metadata": {},
   "outputs": [
    {
     "ename": "ValueError",
     "evalue": "Cannot run multiple SparkContexts at once; existing SparkContext(app=pyspark-shell, master=local[*]) created by __init__ at /tmp/ipykernel_33/3509690429.py:5 ",
     "output_type": "error",
     "traceback": [
      "\u001b[0;31m---------------------------------------------------------------------------\u001b[0m",
      "\u001b[0;31mValueError\u001b[0m                                Traceback (most recent call last)",
      "\u001b[0;32m/tmp/ipykernel_33/1542122174.py\u001b[0m in \u001b[0;36m<module>\u001b[0;34m\u001b[0m\n\u001b[0;32m----> 1\u001b[0;31m \u001b[0msc\u001b[0m \u001b[0;34m=\u001b[0m \u001b[0mSparkContext\u001b[0m\u001b[0;34m(\u001b[0m\u001b[0;34m)\u001b[0m\u001b[0;34m\u001b[0m\u001b[0;34m\u001b[0m\u001b[0m\n\u001b[0m",
      "\u001b[0;32m/usr/local/spark/python/pyspark/context.py\u001b[0m in \u001b[0;36m__init__\u001b[0;34m(self, master, appName, sparkHome, pyFiles, environment, batchSize, serializer, conf, gateway, jsc, profiler_cls)\u001b[0m\n\u001b[1;32m    142\u001b[0m                 \" is not allowed as it is a security risk.\")\n\u001b[1;32m    143\u001b[0m \u001b[0;34m\u001b[0m\u001b[0m\n\u001b[0;32m--> 144\u001b[0;31m         \u001b[0mSparkContext\u001b[0m\u001b[0;34m.\u001b[0m\u001b[0m_ensure_initialized\u001b[0m\u001b[0;34m(\u001b[0m\u001b[0mself\u001b[0m\u001b[0;34m,\u001b[0m \u001b[0mgateway\u001b[0m\u001b[0;34m=\u001b[0m\u001b[0mgateway\u001b[0m\u001b[0;34m,\u001b[0m \u001b[0mconf\u001b[0m\u001b[0;34m=\u001b[0m\u001b[0mconf\u001b[0m\u001b[0;34m)\u001b[0m\u001b[0;34m\u001b[0m\u001b[0;34m\u001b[0m\u001b[0m\n\u001b[0m\u001b[1;32m    145\u001b[0m         \u001b[0;32mtry\u001b[0m\u001b[0;34m:\u001b[0m\u001b[0;34m\u001b[0m\u001b[0;34m\u001b[0m\u001b[0m\n\u001b[1;32m    146\u001b[0m             self._do_init(master, appName, sparkHome, pyFiles, environment, batchSize, serializer,\n",
      "\u001b[0;32m/usr/local/spark/python/pyspark/context.py\u001b[0m in \u001b[0;36m_ensure_initialized\u001b[0;34m(cls, instance, gateway, conf)\u001b[0m\n\u001b[1;32m    348\u001b[0m \u001b[0;34m\u001b[0m\u001b[0m\n\u001b[1;32m    349\u001b[0m                     \u001b[0;31m# Raise error if there is already a running Spark context\u001b[0m\u001b[0;34m\u001b[0m\u001b[0;34m\u001b[0m\u001b[0m\n\u001b[0;32m--> 350\u001b[0;31m                     raise ValueError(\n\u001b[0m\u001b[1;32m    351\u001b[0m                         \u001b[0;34m\"Cannot run multiple SparkContexts at once; \"\u001b[0m\u001b[0;34m\u001b[0m\u001b[0;34m\u001b[0m\u001b[0m\n\u001b[1;32m    352\u001b[0m                         \u001b[0;34m\"existing SparkContext(app=%s, master=%s)\"\u001b[0m\u001b[0;34m\u001b[0m\u001b[0;34m\u001b[0m\u001b[0m\n",
      "\u001b[0;31mValueError\u001b[0m: Cannot run multiple SparkContexts at once; existing SparkContext(app=pyspark-shell, master=local[*]) created by __init__ at /tmp/ipykernel_33/3509690429.py:5 "
     ]
    }
   ],
   "source": [
    "sc = SparkContext()"
   ]
  },
  {
   "cell_type": "markdown",
   "id": "336d5c9d",
   "metadata": {},
   "source": [
    "### Q2 \n",
    "\n",
    "Read in the file `43.txt` as a spark RDD and save it to a variable called `book_43`\n",
    " * make sure `book_43` is of type MapPartitionsRDD, i.e.,\n",
    "   * str(type(book_43)) == \"<class 'pyspark.rdd.RDD'>\" should return True "
   ]
  },
  {
   "cell_type": "code",
   "execution_count": null,
   "id": "3d4164f5",
   "metadata": {},
   "outputs": [],
   "source": [
    "### Write your code here\n",
    "\n",
    "book_43 = sc.textFile('data/43.txt')"
   ]
  },
  {
   "cell_type": "markdown",
   "id": "0b8c051e",
   "metadata": {},
   "source": [
    "### Q3\n",
    "\n",
    "How many lines does `book_43` contain?\n",
    "* You can only use operations or actions on RDDs to answer the question. \n",
    "  * Code that uses methods such as `some_rdd.X().Y().Z()...` is allowed\n",
    "  * Code that uses functions such as `some_func(...)` is not allowed"
   ]
  },
  {
   "cell_type": "code",
   "execution_count": null,
   "id": "b3c5a06e",
   "metadata": {},
   "outputs": [],
   "source": [
    "### Write your code here\n",
    "\n",
    "lines_43 = book_43.count()\n",
    "lines_43"
   ]
  },
  {
   "cell_type": "markdown",
   "id": "bca2bc6d",
   "metadata": {},
   "source": [
    "### Q4 \n",
    "\n",
    "Prior to analyzing the words contained in this book, we need to first remove the occurrences of non-alphabetical characters and numbers from the text. You can use the following function, which takes a line as input, removes digits and non-word characters, and splits it into a collection of words. \n",
    "\n",
    "```python\n",
    "def clean_split_line(line):\n",
    "    a = re.sub('\\d+', '', line)\n",
    "    b = re.sub('[\\W]+', ' ', a)\n",
    "    return b.upper().split()\n",
    "```\n",
    "\n",
    "Use the fucntion above on the variable (test_line) to see what it returns.\n",
    "```python\n",
    "test_line = \"This is an example of that contains 234 and a dash-containing number\"\n",
    "```"
   ]
  },
  {
   "cell_type": "code",
   "execution_count": null,
   "id": "55ce2754",
   "metadata": {},
   "outputs": [],
   "source": [
    "### Write your code here\n",
    "\n",
    "test_line = \"This is an example of that contains 234 and a dash-containing number\"\n",
    "\n",
    "def clean_split_line(line):\n",
    "    a = re.sub('\\d+', '', line)\n",
    "    b = re.sub('[\\W]+', ' ', a)\n",
    "    return b.upper().split()\n",
    "\n",
    "clean_split_line(test_line)"
   ]
  },
  {
   "cell_type": "markdown",
   "id": "b5e951e5",
   "metadata": {},
   "source": [
    "### Q5\n",
    "\n",
    "How many words does `book_43` contain? To answer this question, you may find it useful to apply the function in a spark-fashion. \n",
    "* You can only use operations or actions on RDDs to answer the question. \n",
    "  * Code that uses methods such as `some_rdd.X().Y().Z()...` is allowed\n",
    "  * Code that uses functions such as `some_func(...)` is not allowed\n"
   ]
  },
  {
   "cell_type": "code",
   "execution_count": null,
   "id": "99c1b93f",
   "metadata": {},
   "outputs": [],
   "source": [
    "### Write your code here\n",
    "book_43_words = book_43.flatMap(clean_split_line)\n",
    "book_43_words.count()"
   ]
  },
  {
   "cell_type": "markdown",
   "id": "30d62952",
   "metadata": {},
   "source": [
    "### Q6\n",
    "\n",
    "How many of the words in book_43 are unique? Given that words can appear in lower, upper or mixed case (ex. The, THE, the), make sure you convert the words into lower case before counting them.\n"
   ]
  },
  {
   "cell_type": "code",
   "execution_count": null,
   "id": "07785c77",
   "metadata": {},
   "outputs": [],
   "source": [
    "### Write your code here\n",
    "\n",
    "book_43_words = book_43_words.map(lambda x: x.lower())\n",
    "\n",
    "Q6 = book_43_words.map(lambda x: (x,1))\n",
    "Q6 = Q6.reduceByKey(lambda x,y: x+y)\n",
    "uniqueWords = Q6.filter(lambda x: x[1] == 1)\n",
    "uniqueWords.count()"
   ]
  },
  {
   "cell_type": "markdown",
   "id": "91b13b79",
   "metadata": {},
   "source": [
    "### Q7\n",
    "\n",
    "* Generate an `RDD` that contains the frequency of each word in `book_43`. Call the variable `book_43_counts`. Each item in the `RDD` should be a tuple with the word as the first element of the tuple and the count as the second item of the tuple. The collection should look like the following:\n",
    "\n",
    "[('project', 88), (\"the\", 1807), ... ]\n",
    "\n",
    "* Such a collection may contain a large number of words and it would be imprudent to transfer all the words onto the same machine to display it. Instead, to explore the content of such a collection, display only the first element in your list. \n",
    "\n",
    "* Given the random nature of this operation, the first element element displayed may be different. The first entry for me was:\n",
    "```\n",
    "[('project', 88)]\n",
    "```\n",
    "\n",
    "* You can only use operations or actions to answer the question. \n",
    "* Code that uses methods such as `some_rdd.X().Y().Z()...` is allowed\n",
    "* Code that uses functions such as `some_func(...)` is not allowed\n"
   ]
  },
  {
   "cell_type": "code",
   "execution_count": null,
   "id": "42729b95",
   "metadata": {},
   "outputs": [],
   "source": [
    "### Write your code here\n",
    "\n",
    "book_43_counts = Q6\n",
    "book_43_counts.collect()"
   ]
  },
  {
   "cell_type": "markdown",
   "id": "1ee4534c",
   "metadata": {},
   "source": [
    "### Q8\n",
    "\n",
    "Sort `book_43_counts` and print the 20 most frequent words in book_43. \n",
    "  * Hint: function `sortByKey` sorts a collection of tuples on the first element element of the list. You can easily change the order of the items in each element and use `sortByKey` to sort on the second item of each element in `book_43_counts`\n",
    "  * You can only use operations or actions to answer the question. \n",
    "  * Code that uses methods such as `some_rdd.X().Y().Z()...` is allowed\n",
    "  * Code that uses functions such as `some_func(...)` is not allowed"
   ]
  },
  {
   "cell_type": "code",
   "execution_count": null,
   "id": "d51b8ea9",
   "metadata": {},
   "outputs": [],
   "source": [
    "### Write your code here\n",
    "Q8 = Q6.map(lambda x: tuple(reversed(x)))\n",
    "book_43_counts = Q8.sortByKey(ascending = 0)\n",
    "book_43_counts.take(20)\n"
   ]
  },
  {
   "cell_type": "markdown",
   "id": "13420b09",
   "metadata": {},
   "source": [
    "### Q9\n",
    "\n",
    "You must have noted that the most frequent words in `book_43_counts` include stop words such as `of`, `the`, `and`, etc.\n",
    "\n",
    "It would be inefficient to compare documents based on whether or not they contain stop words; those are common to all documents. As such, it's common to remove such stop words. The librarary `sklearn.feature_extraction` provides access to a collection of English stop words, which can be loaded using the following snippet:\n",
    "\n",
    "```\n",
    "from sklearn.feature_extraction import stop_words\n",
    "stop_words.ENGLISH_STOP_WORDS\n",
    "```\n",
    "\n",
    "* Explore ENGLISH_STOP_WORDS (it's a frozen set data structure, i.e., a set that you cannot modify) by printing any 10 words from it. \n",
    " * Hint: convert the frozen set to something you can subscript\n"
   ]
  },
  {
   "cell_type": "code",
   "execution_count": null,
   "id": "0e0ad996",
   "metadata": {},
   "outputs": [],
   "source": [
    "### Write your code here\n",
    "import sklearn.feature_extraction\n",
    "from sklearn.feature_extraction import _stop_words\n",
    "stop_words = sc.parallelize(list(_stop_words.ENGLISH_STOP_WORDS))\n",
    "stop_words.collect()"
   ]
  },
  {
   "cell_type": "markdown",
   "id": "625eb521",
   "metadata": {},
   "source": [
    "### Q10\n",
    "\n",
    "Filter out the words in `book_43_counts` by removing those that appear in the ENGLISH_STOP_WORDS.\n",
    "Save the results to a new variable called `book_43_counts_filtered`\n",
    "  * You can only use operarations or actions on RDDs to answer the question. \n",
    "  * Code that uses methods such as `some_rdd.X().Y().Z()...` is allowed\n",
    "  * Code that uses function such as `some_func(...)` is not allowed\n"
   ]
  },
  {
   "cell_type": "code",
   "execution_count": null,
   "id": "5602b4ff",
   "metadata": {},
   "outputs": [],
   "source": [
    "### Write your code here\n",
    "# https://stackoverflow.com/questions/26214112/filter-based-on-another-rdd-in-spark\n",
    "book_43_counts_filtered = book_43_counts.map(lambda x: tuple(reversed(x))).filter(lambda x: x[0] not in _stop_words.ENGLISH_STOP_WORDS)\n",
    "book_43_counts_filtered.collect()"
   ]
  },
  {
   "cell_type": "markdown",
   "id": "3d0b3a80",
   "metadata": {},
   "source": [
    "### Q11\n",
    "\n",
    "* How many words are left in `book_43_counts_filtered` after removing the stop words"
   ]
  },
  {
   "cell_type": "code",
   "execution_count": null,
   "id": "a5bdf083",
   "metadata": {},
   "outputs": [],
   "source": [
    "### Write your code here\n",
    "\n",
    "book_43_counts_filtered.map(lambda x: x[1]).sum()"
   ]
  },
  {
   "cell_type": "markdown",
   "id": "23ffd755",
   "metadata": {},
   "source": [
    "### Q12 \n",
    "\n",
    "* Create a function called *process_RDD* that combines the relevant steps you proposed above to make it convenient to apply them to the remaining four books. Your function should accept an input text file path and:\n",
    " * Reads in the file as a textRDD\n",
    " * Cleans and splits the line using `clean_split_line`\n",
    " * Filters out the stop words\n",
    " * Returns a word count RDD where each item is a tuple of words and its count.\n",
    " \n"
   ]
  },
  {
   "cell_type": "code",
   "execution_count": 220,
   "id": "eff5d5e8",
   "metadata": {},
   "outputs": [],
   "source": [
    "### Write your code here\n",
    "def process_RDD(file):\n",
    "    # Read textfile as RDD\n",
    "    t = sc.textFile(file)\n",
    "    \n",
    "    # Clean and split line\n",
    "    t = t.map(lambda x: re.sub('\\d+', '', x))\n",
    "    t = t.map(lambda x: re.sub('[\\W]+', ' ', x))\n",
    "    t = t.flatMap(lambda x: x.split())\n",
    "    \n",
    "    # Convert to lowercase and count words\n",
    "    t = t.map(lambda x: x.lower())\n",
    "    t = t.map(lambda x: (x,1))\n",
    "    t.collect()\n",
    "    t = t.reduceByKey(lambda x,y: x+y)\n",
    "    \n",
    "    # Filter stop words\n",
    "    t = t.filter(lambda x: x[0] not in _stop_words.ENGLISH_STOP_WORDS)\n",
    "    \n",
    "    return t"
   ]
  },
  {
   "cell_type": "code",
   "execution_count": null,
   "id": "286afb2b",
   "metadata": {},
   "outputs": [],
   "source": []
  },
  {
   "cell_type": "markdown",
   "id": "ba59c9c5",
   "metadata": {},
   "source": [
    "### Q13 \n",
    "\n",
    "Apply the function `process_RDD` to `book_84`, `book_398` and `book_3296` and save the results to variables `book_84_counts_filtered`, `book_398_counts_filtered` and `book_3296_counts_filtered` respectively. How many distinct words does each book contain after filtering the stop words.\n"
   ]
  },
  {
   "cell_type": "code",
   "execution_count": 243,
   "id": "08a24f66",
   "metadata": {},
   "outputs": [
    {
     "name": "stdout",
     "output_type": "stream",
     "text": [
      "Book_84: 7016 | Book_398: 2421 | Book_3296: 7293\n"
     ]
    }
   ],
   "source": [
    "### Write your code here\n",
    "\n",
    "book_84_counts_filtered = process_RDD('data/84.txt')\n",
    "book_398_counts_filtered = process_RDD('data/398.txt')\n",
    "book_3296_counts_filtered = process_RDD('data/3296.txt')\n",
    "\n",
    "print(\"Book_84:\", book_84_counts_filtered.count(),\"| Book_398:\",book_398_counts_filtered.count(),\"| Book_3296:\", book_3296_counts_filtered.count())"
   ]
  },
  {
   "cell_type": "markdown",
   "id": "7fb9680f",
   "metadata": {},
   "source": [
    "### Q14 \n",
    "\n",
    "We discussed how to evaluate similarity between two texts using the number of words they share. We hypothesized that books that are similar should have more words in common than books that are dissimilar. If that holds, `book_398` and `book_3296`, which both pertain to religion, will have more words in common than, say, `book_84` and `book_398`. Test this hypothesis by writing code that compares and prints the number of words shared between `book_398` and `book_3296` and then between `book_84` and `book_398`.\n"
   ]
  },
  {
   "cell_type": "code",
   "execution_count": 222,
   "id": "ac6b73e0",
   "metadata": {},
   "outputs": [
    {
     "name": "stdout",
     "output_type": "stream",
     "text": [
      "Books 84 to 3296: 3608\n",
      "Books 84 to 398: 1691\n"
     ]
    }
   ],
   "source": [
    "### Write your code here\n",
    "\n",
    "compare_84_3296 = book_84_counts_filtered.join(book_3296_counts_filtered)\n",
    "compare_84_398 = book_84_counts_filtered.join(book_398_counts_filtered)\n",
    "print(\"Books 84 to 3296:\", compare_84_3296.count())\n",
    "print(\"Books 84 to 398:\", compare_84_398.count())"
   ]
  },
  {
   "cell_type": "markdown",
   "id": "cef9f326",
   "metadata": {},
   "source": [
    "### Q15\n",
    "\n",
    "* Based on the above, do you think counting the number of shared words is a good idea as a distance metric for evaluating topic similarity? Justify your answer?\n",
    "* Hint: What do *book_84* and *book_3296* have in common? "
   ]
  },
  {
   "cell_type": "markdown",
   "id": "6587ae14",
   "metadata": {},
   "source": [
    "#### Write your answer here\n",
    "\n",
    "Although counting the # of shared words can be a useful metric, in many cases, like Q14, it is proven to be ineffective at determining topic similarity, since 398 and 3296 are both religious texts,"
   ]
  },
  {
   "cell_type": "markdown",
   "id": "a6f8f857",
   "metadata": {},
   "source": [
    "## Part II \n",
    "\n",
    "Another approach to estimating similarity consists of computing the Euclidean distance across a set of words. For example, suppose we have 3 documents A, B and C with the following counts for the words `evolution`, `DNA`, `biology` and `finance`. \n",
    "\n",
    "```python \n",
    "A = [4, 9, 6, 8]\n",
    "B = [3, 7, 7, 10]\n",
    "C = [15, 10, 1, 1]\n",
    "```\n",
    "Although all documents contain exactly the four words, the number of times these words appear in each book may be indicative of thier topic. For example, documents `A` and `B` are more likely to be business related since they contain the word `finance` more frequently (8 and 10 times respectively). Document `C` may be a technical document since it focuses on more technical words (`evolution` and `DNA`) and less on the words `finance`.\n",
    "\n",
    "The Euclidean distance, which can be computed using the `scikit` snippet below, is more indicative of topic-relatedness between the two documents.\n",
    "\n",
    "```python\n",
    "from scipy.spatial.distance import euclidean \n",
    "print(f\"The Euclidean distance between A and B is: {euclidean(A, B)}\")\n",
    "\n",
    "print(f\"The Euclidean distance between A and C is: {euclidean(A, C)}\")\n",
    "\n",
    "print(f\"The Euclidean distance between B and C is: {euclidean(B, C)}\")\n",
    "```\n"
   ]
  },
  {
   "cell_type": "code",
   "execution_count": 223,
   "id": "5c29bc6c",
   "metadata": {},
   "outputs": [
    {
     "name": "stdout",
     "output_type": "stream",
     "text": [
      "The Euclidean distance between A and B is: 3.1622776601683795\n",
      "The Euclidean distance between A and C is: 14.0\n",
      "The Euclidean distance between B and C is: 16.431676725154983\n"
     ]
    }
   ],
   "source": [
    "A = [4, 9, 6, 8]\n",
    "B = [3, 7, 7, 10]\n",
    "C = [15, 10, 1, 1]\n",
    "\n",
    "from scipy.spatial.distance import euclidean \n",
    "\n",
    "print(f\"The Euclidean distance between A and B is: {euclidean(A, B)}\")\n",
    "\n",
    "print(f\"The Euclidean distance between A and C is: {euclidean(A, C)}\")\n",
    "\n",
    "print(f\"The Euclidean distance between B and C is: {euclidean(B, C)}\")"
   ]
  },
  {
   "cell_type": "markdown",
   "id": "9abdc35e",
   "metadata": {},
   "source": [
    "### Q16\n",
    "\n",
    "To calculate the Euclidean distance, we must first identify the set of words by which we will compare the documents. Here, we will explore the words that are common to all 4 documents. We will store the data in a matrix called `counts_matrix`.\n",
    "\n",
    "Start by finding the words that are common to all four documents after stop-word filtering and store the counts for each word in a column of `counts_matrix`. \n",
    "\n",
    "To take the previous example, you can generate an emtpy matrix with 3 lines (documents `A`, `B` and `C`) and 4 columns (words `evolution`, `DNA`, `biology` and `finance`) using the following code.\n",
    "\n",
    "```python\n",
    "import numpy as np\n",
    "counts_matrix = np.zeros([3,4])\n",
    "```\n",
    "\n",
    "After generting the counts, you can fill the counts for a document, say `A`, using the following code:\n",
    "\n",
    "```python\n",
    "counts_matrix[0, :] = [4, 9, 6, 8] \n",
    "```\n",
    "* Other than for building `counts_matrix` you should exclusively use operations or actions on the `RDD` to answer this question. \n",
    "  * Code that uses methods such as `some_rdd.X().Y().Z()...` is allowed\n",
    "  * Code that uses functions such as `some_func(...)` is not allowed\n"
   ]
  },
  {
   "cell_type": "code",
   "execution_count": 224,
   "id": "2d64d41a",
   "metadata": {},
   "outputs": [],
   "source": [
    "book_43_counts_filtered = process_RDD('data/43.txt')"
   ]
  },
  {
   "cell_type": "code",
   "execution_count": 225,
   "id": "c3cae946",
   "metadata": {},
   "outputs": [
    {
     "name": "stderr",
     "output_type": "stream",
     "text": [
      "\r",
      "[Stage 721:============================>                            (1 + 1) / 2]\r",
      "\r",
      "                                                                                \r"
     ]
    },
    {
     "data": {
      "text/plain": [
       "array([[ 1.,  3.,  2., ...,  5.,  3.,  1.],\n",
       "       [ 1.,  9.,  4., ..., 30.,  9.,  1.],\n",
       "       [ 1.,  5., 16., ...,  1.,  2.,  1.],\n",
       "       [16., 36.,  3., ..., 15.,  4.,  1.]])"
      ]
     },
     "execution_count": 225,
     "metadata": {},
     "output_type": "execute_result"
    }
   ],
   "source": [
    "### Write your code here\n",
    "\n",
    "common_words = book_84_counts_filtered.join(book_3296_counts_filtered).join(book_398_counts_filtered).join(book_43_counts_filtered)\n",
    "common_words = common_words.keys().collect()\n",
    "\n",
    "# Create matrix\n",
    "\n",
    "matrix = np.zeros([4, len(common_words)])\n",
    "\n",
    "# Filter out common words for each column\n",
    "book_43_row = book_43_counts_filtered.filter(lambda x: x[0] in common_words)\n",
    "book_84_row = book_84_counts_filtered.filter(lambda x: x[0] in common_words)\n",
    "book_398_row = book_398_counts_filtered.filter(lambda x: x[0] in common_words)\n",
    "book_3296_row = book_3296_counts_filtered.filter(lambda x: x[0] in common_words)\n",
    "\n",
    "# Sort rows before adding to matrix\n",
    "\n",
    "book_43_row = book_43_row.sortByKey()\n",
    "book_84_row = book_84_row.sortByKey()\n",
    "book_398_row = book_398_row.sortByKey()\n",
    "book_3296_row = book_3296_row.sortByKey()\n",
    "\n",
    "# Add rows to matrix\n",
    "\n",
    "matrix[0,:] = book_43_row.flatMap(lambda x: [x[1]]).collect()\n",
    "matrix[1,:] = book_84_row.flatMap(lambda x: [x[1]]).collect()\n",
    "matrix[2,:] = book_398_row.flatMap(lambda x: [x[1]]).collect()\n",
    "matrix[3,:] = book_3296_row.flatMap(lambda x: [x[1]]).collect()\n",
    "\n",
    "matrix\n"
   ]
  },
  {
   "cell_type": "markdown",
   "id": "124bcdd8",
   "metadata": {},
   "source": [
    "### Q17\n",
    "\n",
    "Compute the Euclidean distance between `book_398` and `book_3296`, which both talk about religion and `book_84` and `book_398`. What do you conclude about using the Euclidean distance for evaluating topic relatedness across documents?\n"
   ]
  },
  {
   "cell_type": "code",
   "execution_count": 226,
   "id": "7b6a81dd",
   "metadata": {},
   "outputs": [
    {
     "name": "stdout",
     "output_type": "stream",
     "text": [
      "Euclidean distance between `book_398` and `book_3296`: 1156.6628722320086\n",
      "Euclidean distance between `book_84` and `book_398`: 751.6688100486809\n"
     ]
    }
   ],
   "source": [
    "### Write your code here\n",
    "\n",
    "print(\"Euclidean distance between `book_398` and `book_3296`:\", euclidean(matrix[2,:], matrix[3,:]))\n",
    "print(\"Euclidean distance between `book_84` and `book_398`:\", euclidean(matrix[1,:], matrix[2,:]))"
   ]
  },
  {
   "cell_type": "markdown",
   "id": "89981b46",
   "metadata": {},
   "source": [
    "#### Write your justification here"
   ]
  },
  {
   "cell_type": "markdown",
   "id": "3f4e54e6",
   "metadata": {},
   "source": [
    "### Q18\n",
    "\n",
    "Bonus question (5 points): Can you think of a few things we could do to improve similarity between documents that pertain to the same topic. Justify your answer without giving code"
   ]
  },
  {
   "cell_type": "markdown",
   "id": "5c8c6de1",
   "metadata": {},
   "source": [
    "#### Write your answer here\n",
    "\n",
    "If we were to show similarity using a common word matrix, then it makes sense to limit the number of books used in the matrix. As the amount of books increases, the amount of common words decreases, and similarities between any two given books would be harder to find. An alternative is to include, rather than exclude words that are common among pairs of books."
   ]
  },
  {
   "cell_type": "markdown",
   "id": "aedf1d74",
   "metadata": {},
   "source": [
    "## Part III\n",
    "\n",
    "In this part we will build some basic analytics for a dataset consisting of flight arrival and departure details for all commercial flights within the USA in one month. While this dataset can be managed using Pandas (<1M records), scaling to a yearly or longer timeframe will greatly benefit from using a distributed computing framework such as `Spark`.\n",
    "\n",
    "Here, you should use exclusively `SparkDatFrames. \n",
    "\n",
    "We want to analyze this dataset to better schedule trips.  For example:\n",
    " * Avoid airlines carriers that are most often associated with delays.\n",
    " * Avoid departure days where delays are most frequent.\n",
    " * Avoid airports which are associated with delays or long taxxying time.\n",
    "* etc.\n",
    " \n",
    "\n",
    "The information about the fields contained in the data file can be found [here](https://dataverse.harvard.edu/dataset.xhtml;jsessionid=0414e25969eccd0e88ae4d64fa0b?persistentId=doi%3A10.7910%2FDVN%2FHG7NV7&version=&q=&fileTypeGroupFacet=&fileTag=%221.+Documentation%22&fileSortField=date&fileSortOrder=desc)\n"
   ]
  },
  {
   "cell_type": "markdown",
   "id": "149805af",
   "metadata": {},
   "source": [
    "### Q19\n",
    "\n",
    "Load the file `flight_info.csv` into a spark `DataFrame` called `fight_info`.\n",
    "\n",
    "  * Note that you will need to create a sparkSession prior to loading the data\n",
    "  \n",
    "* How many entries does the file contain?\n",
    "\n"
   ]
  },
  {
   "cell_type": "code",
   "execution_count": 227,
   "id": "3ad5e6ad",
   "metadata": {},
   "outputs": [
    {
     "data": {
      "text/plain": [
       "450017"
      ]
     },
     "execution_count": 227,
     "metadata": {},
     "output_type": "execute_result"
    }
   ],
   "source": [
    "### Write your code here\n",
    "\n",
    "from pyspark.sql import SparkSession\n",
    "\n",
    "spark = SparkSession(sc)\n",
    "flight_info = spark.read.csv('data/flight_info.csv', header=True)\n",
    "flight_info.count()"
   ]
  },
  {
   "cell_type": "markdown",
   "id": "4fad81f1",
   "metadata": {},
   "source": [
    "### Q20\n",
    "\n",
    "Use `pySpark-SQL` or `pandas-like syntax to compute the airlines represented in this dataset\n",
    "The airline information is stored in a field called UniqueCarrier\n",
    "* UniqueCarrier: Represents the unique carrier code (ex.AA = American Airlines) \n"
   ]
  },
  {
   "cell_type": "code",
   "execution_count": 228,
   "id": "73fd7b0b",
   "metadata": {},
   "outputs": [
    {
     "name": "stdout",
     "output_type": "stream",
     "text": [
      "+-------------+\n",
      "|UniqueCarrier|\n",
      "+-------------+\n",
      "|           UA|\n",
      "|           NK|\n",
      "|           AA|\n",
      "|           EV|\n",
      "|           B6|\n",
      "|           DL|\n",
      "|           OO|\n",
      "|           F9|\n",
      "|           HA|\n",
      "|           WN|\n",
      "|           AS|\n",
      "|           VX|\n",
      "+-------------+\n",
      "\n"
     ]
    }
   ],
   "source": [
    "### Write your code here\n",
    "\n",
    "# Pandas\n",
    "flight_info.select(\"UniqueCarrier\").distinct().show()"
   ]
  },
  {
   "cell_type": "markdown",
   "id": "1349b2f5",
   "metadata": {},
   "source": [
    "### Q21\n",
    "\n",
    "The data file contains various other fields, two of which are useful for answering the next question.\n",
    "\n",
    "* CRSDepTime: Represents the scheduled departure time\n",
    "* DepTime: Represents the actual departure time\n",
    "\n",
    "Compute the number of flights delayed per each carried code represented in this dataset. Sort the data by decreasing order of delays.\n",
    "  * A delay is observed when `DepTime` > `CRSDepTime`\n"
   ]
  },
  {
   "cell_type": "code",
   "execution_count": 229,
   "id": "c72cff25",
   "metadata": {},
   "outputs": [
    {
     "name": "stdout",
     "output_type": "stream",
     "text": [
      "+-------------+-----+\n",
      "|UniqueCarrier|count|\n",
      "+-------------+-----+\n",
      "|           WN|54557|\n",
      "|           DL|28962|\n",
      "|           AA|26291|\n",
      "|           UA|19594|\n",
      "|           OO|17924|\n",
      "|           EV|12340|\n",
      "|           B6|10406|\n",
      "|           AS| 4966|\n",
      "|           NK| 4435|\n",
      "|           F9| 3181|\n",
      "|           VX| 2871|\n",
      "|           HA| 2265|\n",
      "+-------------+-----+\n",
      "\n"
     ]
    }
   ],
   "source": [
    "### Write your code here\n",
    "\n",
    "flight_delays = flight_info.filter(flight_info[\"DepTime\"] > flight_info[\"CRSDepTime\"])\n",
    "flight_delays = flight_delays.groupby(\"UniqueCarrier\").count()\n",
    "flight_delays = flight_delays.sort(\"count\", ascending=0)\n",
    "flight_delays.show()"
   ]
  },
  {
   "cell_type": "markdown",
   "id": "1645593b",
   "metadata": {},
   "source": [
    "### Q22\n",
    "\n",
    " Use the file `airlines.csv` to find the the complete name of the airline. Here, you are required to load the file as a pyspark DataFrame; call it `airlines_info`, and repeat the query above while including the `flights.csv `file in your query ( requires doing a `join`) so that you can also display the full name of the carrier (second column). \n",
    "\n",
    "The result will look (approximately) like:\n",
    "\n",
    "```\n",
    "[Row(UniqueCarrier='WN', first(_c1)='Southwest Airlines', count=SOME_count),\n",
    " Row(UniqueCarrier='DL', first(_c1)='Delta Air Lines', count=SOME_count),\n",
    " Row(UniqueCarrier='AA', first(_c1)='American Airlines', count=SOME_count),\n",
    " ...\n",
    " ]\n",
    "```\n",
    "\n",
    "The carrier code in the `airlines.csv` file is provided in the 4th (1-based) column\n",
    "\n",
    "Note that the file `airlines.csv` does not have column header. Hence, you need to print one line of your dataset to see what names Spark gave to the columns. Use the name provided by Spark in your query."
   ]
  },
  {
   "cell_type": "code",
   "execution_count": 230,
   "id": "30cea22b",
   "metadata": {},
   "outputs": [
    {
     "name": "stdout",
     "output_type": "stream",
     "text": [
      "+-------------+--------------------+-----+\n",
      "|UniqueCarrier|                 _c1|count|\n",
      "+-------------+--------------------+-----+\n",
      "|           WN|  Southwest Airlines|54557|\n",
      "|           DL|     Delta Air Lines|28962|\n",
      "|           AA|   American Airlines|26291|\n",
      "|           UA|     United Airlines|19594|\n",
      "|           OO|             SkyWest|17924|\n",
      "|           EV|Atlantic Southeas...|12340|\n",
      "|           B6|     JetBlue Airways|10406|\n",
      "|           AS|     Alaska Airlines| 4966|\n",
      "|           NK|     Spirit Airlines| 4435|\n",
      "|           F9|   Frontier Airlines| 3181|\n",
      "|           VX|      Virgin America| 2871|\n",
      "|           HA|   Hawaiian Airlines| 2265|\n",
      "+-------------+--------------------+-----+\n",
      "\n"
     ]
    }
   ],
   "source": [
    "### Write your code here\n",
    "\n",
    "airlines_info = spark.read.csv(\"data/airlines.csv\")\n",
    "\n",
    "airlines = airlines_info.join(flight_info,  flight_info[\"UniqueCarrier\"] == airlines_info[\"_c3\"])\n",
    "airlines = airlines.filter(\"DepTime > CRSDepTime\")\n",
    "\n",
    "airlines = airlines.groupby(\"UniqueCarrier\",\"_c1\").count()\n",
    "airlines = airlines.sort(\"count\", ascending=False)\n",
    "\n",
    "\n",
    "airlines.show()"
   ]
  },
  {
   "cell_type": "markdown",
   "id": "4e0123a8",
   "metadata": {},
   "source": [
    "### Q23\n",
    "\n",
    "Compute the number of delays per company per day. The day is encoded as an integer in the column `DayOfWeek` in `fight_info`. You can display the day as an integer or map it into a string name of the week.\n",
    "Sort the data by airline code (UniqueCarrier) and by increasing values of DayOfWeek\n",
    "\n",
    "\n",
    "You results should look like the following\n",
    "\n"
   ]
  },
  {
   "cell_type": "code",
   "execution_count": 231,
   "id": "f9971baa",
   "metadata": {},
   "outputs": [
    {
     "name": "stdout",
     "output_type": "stream",
     "text": [
      "+-------------+---------+-----+\n",
      "|UniqueCarrier|DayOfWeek|count|\n",
      "+-------------+---------+-----+\n",
      "|           AA|        1| 5117|\n",
      "|           AA|        2| 3688|\n",
      "|           AA|        3| 2941|\n",
      "|           AA|        4| 3575|\n",
      "|           AA|        5| 3525|\n",
      "|           AA|        6| 2800|\n",
      "|           AA|        7| 4645|\n",
      "|           AS|        1|  872|\n",
      "|           AS|        2|  669|\n",
      "|           AS|        3|  618|\n",
      "|           AS|        4|  728|\n",
      "|           AS|        5|  630|\n",
      "|           AS|        6|  517|\n",
      "|           AS|        7|  932|\n",
      "|           B6|        1| 1892|\n",
      "|           B6|        2| 1787|\n",
      "|           B6|        3| 1253|\n",
      "|           B6|        4| 1254|\n",
      "|           B6|        5| 1309|\n",
      "|           B6|        6| 1027|\n",
      "+-------------+---------+-----+\n",
      "only showing top 20 rows\n",
      "\n"
     ]
    }
   ],
   "source": [
    "### Write your code here\n",
    "delays_per_company = flight_info.filter(\"DepTime > CRSDepTime\").groupby(\"UniqueCarrier\", \"DayOfWeek\").count().sort(\"UniqueCarrier\", \"DayOfWeek\")\n",
    "delays_per_company.show()"
   ]
  },
  {
   "cell_type": "markdown",
   "id": "4c955760",
   "metadata": {},
   "source": [
    "### Q24  \n",
    "\n",
    "Counting the number of delayed flights per airline is misleading, as airlines with more flights are more likley to have delays than companies with substantially fiewer flights. \n",
    "\n",
    "Repeat the same query above but, for each carrier, normalize the counts of delays by the total number of flights for that carrier. \n"
   ]
  },
  {
   "cell_type": "code",
   "execution_count": 232,
   "id": "13ae9b5e",
   "metadata": {},
   "outputs": [
    {
     "name": "stderr",
     "output_type": "stream",
     "text": [
      "\r",
      "[Stage 769:>                                                        (0 + 4) / 4]\r",
      "\r",
      "                                                                                \r"
     ]
    },
    {
     "name": "stdout",
     "output_type": "stream",
     "text": [
      "+-------------+---------+-------------------+\n",
      "|UniqueCarrier|DayOfWeek|   NormalizedDelays|\n",
      "+-------------+---------+-------------------+\n",
      "|           F9|        6| 0.3603238866396761|\n",
      "|           OO|        3| 0.3355342136854742|\n",
      "|           EV|        6| 0.2974967907573813|\n",
      "|           F9|        1| 0.5031847133757962|\n",
      "|           WN|        4| 0.5567082085915199|\n",
      "|           AA|        1| 0.4206329634196465|\n",
      "|           UA|        7| 0.4904064058014806|\n",
      "|           OO|        4|0.38484179543782193|\n",
      "|           NK|        1| 0.4169124877089479|\n",
      "|           B6|        6| 0.3583391486392184|\n",
      "|           EV|        1| 0.4186756669881067|\n",
      "|           F9|        2| 0.4022801302931596|\n",
      "|           AA|        3|0.30285243538255585|\n",
      "|           UA|        3|0.45242933678182157|\n",
      "|           EV|        7| 0.3808161708619375|\n",
      "|           B6|        7|0.48085758039816234|\n",
      "|           UA|        6| 0.3950864878415643|\n",
      "|           B6|        3|0.39601769911504425|\n",
      "|           B6|        4|0.38278388278388276|\n",
      "|           DL|        7|0.49495996231747524|\n",
      "+-------------+---------+-------------------+\n",
      "only showing top 20 rows\n",
      "\n"
     ]
    }
   ],
   "source": [
    "### Write your code here\n",
    "\n",
    "delays_per_company_total = flight_info.groupby(\"UniqueCarrier\", \"DayOfWeek\").count().sort(\"UniqueCarrier\", \"DayOfWeek\")\n",
    "\n",
    "normalized = delays_per_company.join(delays_per_company_total, [\"UniqueCarrier\", \"DayOfWeek\"]).withColumn(\"NormalizedDelays\", delays_per_company[\"count\"] / delays_per_company_total[\"count\"])\n",
    "normalized = normalized.select(\"UniqueCarrier\", \"DayOfWeek\", \"NormalizedDelays\")\n",
    "normalized.show()\n"
   ]
  },
  {
   "cell_type": "markdown",
   "id": "5b73b3e4",
   "metadata": {},
   "source": [
    "### Q25 \n",
    "\n",
    "Time the query above. How long did it take to run. \n",
    "  * Make sure you run the code a few times and compute the average run time.\n",
    "  * The above should be easy to implement if you use the correct Jupyter Notebook `magic` function\n",
    "  "
   ]
  },
  {
   "cell_type": "code",
   "execution_count": 233,
   "id": "7df43da8",
   "metadata": {},
   "outputs": [
    {
     "name": "stderr",
     "output_type": "stream",
     "text": [
      "                                                                                \r"
     ]
    },
    {
     "name": "stdout",
     "output_type": "stream",
     "text": [
      "+-------------+---------+-------------------+\n",
      "|UniqueCarrier|DayOfWeek|   NormalizedDelays|\n",
      "+-------------+---------+-------------------+\n",
      "|           F9|        6| 0.3603238866396761|\n",
      "|           OO|        3| 0.3355342136854742|\n",
      "|           EV|        6| 0.2974967907573813|\n",
      "|           F9|        1| 0.5031847133757962|\n",
      "|           WN|        4| 0.5567082085915199|\n",
      "|           AA|        1| 0.4206329634196465|\n",
      "|           UA|        7| 0.4904064058014806|\n",
      "|           OO|        4|0.38484179543782193|\n",
      "|           NK|        1| 0.4169124877089479|\n",
      "|           B6|        6| 0.3583391486392184|\n",
      "|           EV|        1| 0.4186756669881067|\n",
      "|           F9|        2| 0.4022801302931596|\n",
      "|           AA|        3|0.30285243538255585|\n",
      "|           UA|        3|0.45242933678182157|\n",
      "|           EV|        7| 0.3808161708619375|\n",
      "|           B6|        7|0.48085758039816234|\n",
      "|           UA|        6| 0.3950864878415643|\n",
      "|           B6|        3|0.39601769911504425|\n",
      "|           B6|        4|0.38278388278388276|\n",
      "|           DL|        7|0.49495996231747524|\n",
      "+-------------+---------+-------------------+\n",
      "only showing top 20 rows\n",
      "\n",
      "CPU times: user 2 µs, sys: 0 ns, total: 2 µs\n",
      "Wall time: 5.25 µs\n"
     ]
    }
   ],
   "source": [
    "### Write your code here\n",
    "\n",
    "\n",
    "\n",
    "delays_per_company_total = flight_info.groupby(\"UniqueCarrier\", \"DayOfWeek\").count().sort(\"UniqueCarrier\", \"DayOfWeek\")\n",
    "\n",
    "normalized = delays_per_company.join(delays_per_company_total, [\"UniqueCarrier\", \"DayOfWeek\"]).withColumn(\"NormalizedDelays\", delays_per_company[\"count\"] / delays_per_company_total[\"count\"])\n",
    "normalized = normalized.select(\"UniqueCarrier\", \"DayOfWeek\", \"NormalizedDelays\")\n",
    "normalized.show()\n",
    "\n",
    "%time"
   ]
  },
  {
   "cell_type": "code",
   "execution_count": 234,
   "id": "fce29ea1",
   "metadata": {},
   "outputs": [
    {
     "name": "stdout",
     "output_type": "stream",
     "text": [
      "Average time: 4.636666666666667 microseconds\n"
     ]
    }
   ],
   "source": [
    "# Hand recorded times, in microseconds\n",
    "# I'm not sure if I'm doing this wrong, it seems too fast\n",
    "\n",
    "recorded_times = [4.53, 4.29, 4.77, 4.53, 4.53, 5.01, 4.29, 4.77, 5.01]\n",
    "avg = sum(recorded_times)/len(recorded_times)\n",
    "print(\"Average time:\",avg,\"microseconds\")"
   ]
  },
  {
   "cell_type": "markdown",
   "id": "604e85e0",
   "metadata": {},
   "source": [
    "### Q26 \n",
    "\n",
    "Use one of the techniques covered in class to accelerate this query. Time your query to see by how much the run time was improved"
   ]
  },
  {
   "cell_type": "code",
   "execution_count": 235,
   "id": "2e951d64",
   "metadata": {},
   "outputs": [],
   "source": [
    "### Write your code here"
   ]
  },
  {
   "cell_type": "markdown",
   "id": "8a87a433",
   "metadata": {},
   "source": [
    "### Q27 \n",
    "\n",
    "Is the departure delay (i.e., DepTime - CRSDepTime) predictive of the arrival delay (ArrTime > CRSArrTime)?\n",
    "Use an approach of your choice (e.g. `skelearn` which we covered in class or `Spark`) to model as a linear regression the arrival delay as a function of the departure delay. \n",
    "\n"
   ]
  },
  {
   "cell_type": "code",
   "execution_count": 237,
   "id": "f8dbd52d",
   "metadata": {},
   "outputs": [
    {
     "name": "stdout",
     "output_type": "stream",
     "text": [
      "Model MAE Test Score: 133.5962877343281\n"
     ]
    }
   ],
   "source": [
    "### Write your code here\n",
    "\n",
    "import numpy as np\n",
    "import pandas as pd\n",
    "import matplotlib as plt\n",
    "from sklearn import metrics, model_selection\n",
    "from sklearn.linear_model import LinearRegression\n",
    "\n",
    "# Generate Departure/Arrival Delay Columns\n",
    "\n",
    "flight_delay_data = flight_info.select(\"DepTime\", \"CRSDepTime\", \"ArrTime\", \"CRSArrTime\")\n",
    "flight_delay_data = flight_delay_data.where(\"DepTime > CRSDepTime\")\n",
    "flight_delay_data = flight_delay_data.withColumn(\"Departure Delay\", flight_info.DepTime - flight_info.CRSDepTime)\n",
    "flight_delay_data = flight_delay_data.withColumn(\"Arrival Delay\", flight_info.ArrTime - flight_info.CRSArrTime)\n",
    "flight_delay_data = flight_delay_data.select(\"Departure Delay\", \"Arrival Delay\")\n",
    "\n",
    "# Build ML model, using Pandas DataFrame & Sklearn, not sure how to use Spark yet\n",
    "\n",
    "model = LinearRegression()\n",
    "df = flight_delay_data.toPandas()\n",
    "df = df.dropna() # Remove rows w/ null values\n",
    "\n",
    "# Fit model, first split original dataset into train/test datasets, then split the test dataset into valid/test datasets\n",
    "# 80% train, 10% valid, 10% test\n",
    "\n",
    "X = df[\"Departure Delay\"].to_frame()\n",
    "y = df[\"Arrival Delay\"].to_frame()\n",
    "\n",
    "X_train, X_test, y_train, y_test = model_selection.train_test_split(X, y, test_size = 0.2)\n",
    "\n",
    "model.fit(X_train, y_train)\n",
    "val_predictions = model.predict(X_test)\n",
    "\n",
    "print('Model MAE Test Score:', metrics.mean_absolute_error(y_test, val_predictions))"
   ]
  },
  {
   "cell_type": "code",
   "execution_count": null,
   "id": "f6c5b00d",
   "metadata": {},
   "outputs": [],
   "source": []
  }
 ],
 "metadata": {
  "kernelspec": {
   "display_name": "Python 3 (ipykernel)",
   "language": "python",
   "name": "python3"
  },
  "language_info": {
   "codemirror_mode": {
    "name": "ipython",
    "version": 3
   },
   "file_extension": ".py",
   "mimetype": "text/x-python",
   "name": "python",
   "nbconvert_exporter": "python",
   "pygments_lexer": "ipython3",
   "version": "3.9.7"
  }
 },
 "nbformat": 4,
 "nbformat_minor": 5
}
